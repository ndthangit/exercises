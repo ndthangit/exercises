{
 "cells": [
  {
   "cell_type": "code",
   "id": "initial_id",
   "metadata": {
    "collapsed": true,
    "ExecuteTime": {
     "end_time": "2025-05-28T09:21:32.379052Z",
     "start_time": "2025-05-28T09:21:32.362846Z"
    }
   },
   "source": [
    "%%writefile test.py\n",
    "# PYTHON\n",
    "from ortools.sat.python import cp_model\n",
    "\n",
    "\n",
    "def create_data_model():\n",
    "    n, m, b = map(int, input().split())\n",
    "    edges = []\n",
    "    costs = {}\n",
    "    for i in range(m):\n",
    "        a, b, c = map(int, input().split())\n",
    "        edges.append((a, b))\n",
    "        costs[(a, b)] = c\n",
    "    return n, m, b, edges, costs\n",
    "\n",
    "\n",
    "n, m, b, edges, costs = create_data_model()\n",
    "model = cp_model.CpModel()\n",
    "x = [[model.NewIntVar(0, 1, f\"x{i}{j}\") for j in range(n + 1)] for i in range(n + 1)]\n",
    "y = [[model.NewIntVar(0, 1, f\"y{i}{j}\") for j in range(n + 1)] for i in range(n + 1)]\n",
    "\n",
    "model.add(sum(x[1][j] for j in range(1, n + 1)) == 1)\n",
    "model.add(sum(y[1][j] for j in range(1, n + 1)) == 1)\n",
    "\n",
    "model.add(sum(x[j][n] for j in range(1, n + 1)) == 1)\n",
    "model.add(sum(y[j][n] for j in range(1, n + 1)) == 1)\n",
    "\n",
    "for i in range(2, n):\n",
    "    model.add(sum(x[i][j] for j in range(2, n + 1)) == sum(x[j][i] for j in range(1, n)))\n",
    "    model.add(sum(y[i][j] for j in range(2, n + 1)) == sum(y[j][i] for j in range(1, n)))\n",
    "\n",
    "model.add(sum(x[i][j] for i in range(1, n + 1) for j in range(1, n + 1) if (i, j) in costs) - 1 <= b)\n",
    "model.add(sum(y[i][j] for i in range(1, n + 1) for j in range(1, n + 1) if (i, j) in costs) - 1 <= b)\n",
    "\n",
    "for i in range(n + 1):\n",
    "    for j in range(n + 1):\n",
    "        if (i, j) in edges:\n",
    "            model.add(x[i][j] + y[i][j] <= 1)\n",
    "            # model.add(y[i][j]<=1)\n",
    "\n",
    "        else:\n",
    "            model.add(x[i][j] == 0)\n",
    "            model.add(y[i][j] == 0)\n",
    "\n",
    "model.Minimize(\n",
    "    sum(costs[(i, j)] * (x[i][j] + y[i][j]) for i in range(1, n + 1) for j in range(1, n + 1) if (i, j) in costs))\n",
    "solver = cp_model.CpSolver()\n",
    "status = solver.Solve(model)\n",
    "if status == cp_model.OPTIMAL or status == cp_model.FEASIBLE:\n",
    "    print(f\"{solver.ObjectiveValue():.0f}\")\n",
    "    # for i in range(1,n):\n",
    "    #     print(f\"{solver.value(route[i])}\", end= \" \")\n",
    "else:\n",
    "    print(\"NOT_FEASIBLE\")\n"
   ],
   "outputs": [
    {
     "name": "stdout",
     "output_type": "stream",
     "text": [
      "Overwriting test.py\n"
     ]
    }
   ],
   "execution_count": 5
  },
  {
   "metadata": {
    "ExecuteTime": {
     "end_time": "2025-05-28T09:21:33.228263Z",
     "start_time": "2025-05-28T09:21:32.465451Z"
    }
   },
   "cell_type": "code",
   "source": "!python test.py < test.txt",
   "id": "3463c70388dc4fbb",
   "outputs": [
    {
     "name": "stdout",
     "output_type": "stream",
     "text": [
      "load D:\\program file\\miniconda3\\envs\\IT4663\\Lib\\site-packages\\ortools\\.libs\\zlib1.dll...\n",
      "load D:\\program file\\miniconda3\\envs\\IT4663\\Lib\\site-packages\\ortools\\.libs\\abseil_dll.dll...\n",
      "load D:\\program file\\miniconda3\\envs\\IT4663\\Lib\\site-packages\\ortools\\.libs\\utf8_validity.dll...\n",
      "load D:\\program file\\miniconda3\\envs\\IT4663\\Lib\\site-packages\\ortools\\.libs\\re2.dll...\n",
      "load D:\\program file\\miniconda3\\envs\\IT4663\\Lib\\site-packages\\ortools\\.libs\\libprotobuf.dll...\n",
      "load D:\\program file\\miniconda3\\envs\\IT4663\\Lib\\site-packages\\ortools\\.libs\\highs.dll...\n",
      "load D:\\program file\\miniconda3\\envs\\IT4663\\Lib\\site-packages\\ortools\\.libs\\ortools.dll...\n",
      "320\n"
     ]
    }
   ],
   "execution_count": 6
  },
  {
   "metadata": {
    "ExecuteTime": {
     "end_time": "2025-05-28T09:21:33.316373Z",
     "start_time": "2025-05-28T09:21:33.312643Z"
    }
   },
   "cell_type": "code",
   "source": "",
   "id": "28d79a2d66ca5080",
   "outputs": [],
   "execution_count": null
  }
 ],
 "metadata": {
  "kernelspec": {
   "display_name": "Python 3",
   "language": "python",
   "name": "python3"
  },
  "language_info": {
   "codemirror_mode": {
    "name": "ipython",
    "version": 2
   },
   "file_extension": ".py",
   "mimetype": "text/x-python",
   "name": "python",
   "nbconvert_exporter": "python",
   "pygments_lexer": "ipython2",
   "version": "2.7.6"
  }
 },
 "nbformat": 4,
 "nbformat_minor": 5
}
