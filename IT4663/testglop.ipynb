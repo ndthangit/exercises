{
 "cells": [
  {
   "cell_type": "code",
   "id": "initial_id",
   "metadata": {
    "collapsed": true,
    "ExecuteTime": {
     "end_time": "2025-06-27T15:49:16.902376Z",
     "start_time": "2025-06-27T15:49:16.893725Z"
    }
   },
   "source": [
    "%%writefile check1.py\n",
    "from ortools.linear_solver import pywraplp\n",
    "def importData():\n",
    "    n,m = map(int, input().split())\n",
    "    sochuyengia = list(map(int, input().split()))\n",
    "    chiphi = list(map(int, input().split()))\n",
    "    matrix =[]\n",
    "    for i in range(m):\n",
    "        dong = list(map(int, input().split()))\n",
    "        matrix.append(dong)\n",
    "    return n,m,sochuyengia,chiphi,matrix\n",
    "\n",
    "n,m,sochuyengia,chiphi,matrix = importData()\n",
    "model = pywraplp.Solver.CreateSolver(\"SAT\")\n",
    "\n",
    "x = [[model.IntVar(0,1,f\"x[{i},{j}]\") for i in range(n)] for j in range(m)]\n",
    "y = [model.IntVar(0,1,f\"y[{i}]\") for i in range(m)]\n",
    "\n",
    "for i in range(n):\n",
    "    model.Add(sum(x[j][i] for j in range(m))>=sochuyengia[i])\n",
    "    for  j in range(m):\n",
    "        model.Add(x[j][i] <= matrix[j][i])\n",
    "for i in range(m):\n",
    "    model.Add(sum(x[i][j] for j in range(n))<= y[i]*n)\n",
    "\n",
    "model.Minimize(sum(\n",
    "    chiphi[i] * y[i] for i in range(m)\n",
    "))\n",
    "\n",
    "\n",
    "status = model.Solve()\n",
    "\n",
    "if status == pywraplp.Solver.OPTIMAL:\n",
    "    print(f\"{model.Objective().Value():0.0f}\")\n",
    "    for i in range(n):\n",
    "        for j in range(m):\n",
    "            if x[j][i].solution_value() == 1:\n",
    "                print(f\"linh vuc {i} chuyen gia {j} {x[j][i].solution_value()} \")\n",
    "\n",
    "else:\n",
    "    print(\"NOT_OPTIMAL\")\n"
   ],
   "outputs": [
    {
     "name": "stdout",
     "output_type": "stream",
     "text": [
      "Overwriting check1.py\n"
     ]
    }
   ],
   "execution_count": 7
  },
  {
   "metadata": {
    "ExecuteTime": {
     "end_time": "2025-06-27T15:49:17.010743Z",
     "start_time": "2025-06-27T15:49:16.910112Z"
    }
   },
   "cell_type": "code",
   "source": "!python check1.py < check2.txt",
   "id": "b2c1c7af82f57e82",
   "outputs": [
    {
     "name": "stdout",
     "output_type": "stream",
     "text": [
      "load D:\\program file\\miniconda3\\envs\\IT4663\\Lib\\site-packages\\ortools\\.libs\\zlib1.dll...\n",
      "load D:\\program file\\miniconda3\\envs\\IT4663\\Lib\\site-packages\\ortools\\.libs\\abseil_dll.dll...\n",
      "load D:\\program file\\miniconda3\\envs\\IT4663\\Lib\\site-packages\\ortools\\.libs\\utf8_validity.dll...\n",
      "load D:\\program file\\miniconda3\\envs\\IT4663\\Lib\\site-packages\\ortools\\.libs\\re2.dll...\n",
      "load D:\\program file\\miniconda3\\envs\\IT4663\\Lib\\site-packages\\ortools\\.libs\\libprotobuf.dll...\n",
      "load D:\\program file\\miniconda3\\envs\\IT4663\\Lib\\site-packages\\ortools\\.libs\\highs.dll...\n",
      "load D:\\program file\\miniconda3\\envs\\IT4663\\Lib\\site-packages\\ortools\\.libs\\ortools.dll...\n",
      "30\n",
      "linh vuc 0 chuyen gia 0 1.0 \n",
      "linh vuc 1 chuyen gia 0 1.0 \n",
      "linh vuc 1 chuyen gia 1 1.0 \n",
      "linh vuc 2 chuyen gia 1 1.0 \n"
     ]
    }
   ],
   "execution_count": 8
  }
 ],
 "metadata": {
  "kernelspec": {
   "display_name": "Python 3",
   "language": "python",
   "name": "python3"
  },
  "language_info": {
   "codemirror_mode": {
    "name": "ipython",
    "version": 2
   },
   "file_extension": ".py",
   "mimetype": "text/x-python",
   "name": "python",
   "nbconvert_exporter": "python",
   "pygments_lexer": "ipython2",
   "version": "2.7.6"
  }
 },
 "nbformat": 4,
 "nbformat_minor": 5
}
